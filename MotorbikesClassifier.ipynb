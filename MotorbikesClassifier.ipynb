{
  "nbformat": 4,
  "nbformat_minor": 0,
  "metadata": {
    "colab": {
      "name": "MotorbikesClassifier.ipynb",
      "provenance": [],
      "mount_file_id": "1ZwGLbOHpAsQmLXiv0ePLAowpjlySQaXE",
      "authorship_tag": "ABX9TyONAmsHGVZR6SaB92hrjE8u"
    },
    "kernelspec": {
      "name": "python3",
      "display_name": "Python 3"
    },
    "accelerator": "GPU"
  },
  "cells": [
    {
      "cell_type": "code",
      "metadata": {
        "id": "lcYw6Az7P9FC",
        "colab_type": "code",
        "colab": {}
      },
      "source": [
        "import numpy as np\n",
        "import cv2 as cv\n",
        "import os\n",
        "import matplotlib.pyplot as plt"
      ],
      "execution_count": 82,
      "outputs": []
    },
    {
      "cell_type": "code",
      "metadata": {
        "id": "PreF_li6nQ_f",
        "colab_type": "code",
        "colab": {
          "base_uri": "https://localhost:8080/",
          "height": 1000
        },
        "outputId": "9ed5c6f3-0cf4-449c-889d-cfafba06f2b6"
      },
      "source": [
        "images = []\n",
        "labels = []\n",
        "\n",
        "for foldername in os.listdir(\"/content/drive/My Drive/Colab Notebooks/data/MotorbikesClassifier\"):\n",
        "    print(foldername)\n",
        "    filepath = \"/content/drive/My Drive/Colab Notebooks/data/MotorbikesClassifier/\" + str(foldername)\n",
        "    for filename in os.listdir(filepath):\n",
        "      print(filename)\n",
        "      img = cv.imread(os.path.join(filepath, filename), 1)\n",
        "      img = cv.resize(img, (128, 128))\n",
        "      if img is not None:\n",
        "        images.append(img)\n",
        "        labels.append(str(foldername))\n",
        "        images.append(cv.flip(img, flipCode=1))\n",
        "        labels.append(str(foldername))"
      ],
      "execution_count": 84,
      "outputs": [
        {
          "output_type": "stream",
          "text": [
            "Commuter\n",
            "hero-glamour.jpg\n",
            "hero-hf-deluxe-eco.jpg\n",
            "hero-xtreme-sports.jpg\n",
            "honda-cb-unicorn-150.jpg\n",
            "honda-dream-neo.jpg\n",
            "mahindra-centuro-rockstar.jpg\n",
            "mahindra-centuro.jpg\n",
            "tvs-xl-100.jpg\n",
            "hero-splendor-ismart-110.jpg\n",
            "hero-achiever.jpg\n",
            "hero-splendor-pro.jpg\n",
            "tvs-victor.jpg\n",
            "hero-glamour-125.jpg\n",
            "bajaj-pulsar-150.jpg\n",
            "hero-hf-dawn.jpg\n",
            "hero-super-splendor.jpg\n",
            "hero-passion-xpro.jpg\n",
            "hero-passion-pro.jpg\n",
            "honda-dream-yuga.jpg\n",
            "triumph-speed-twin.jpg\n",
            "hero-glamour-fi.jpg\n",
            "bajaj-pulsar-180.jpg\n",
            "suzuki-gixxer-sf.jpg\n",
            "suzuki-gixxer-sf-250.jpg\n",
            "bajaj-ct-110.jpg\n",
            "suzuki-gixxer.jpg\n",
            "cfmoto-300nk.jpg\n",
            "bajaj-pulsar-220.jpg\n",
            "suzuki-gixxer-250.jpg\n",
            "revolt-rv400.jpg\n",
            "revolt-rv300.jpg\n",
            "benelli-leoncino-250.jpg\n",
            "hero-splendor-ismart.jpg\n",
            "tvs-radeon.jpg\n",
            "honda-sp-125.jpg\n",
            "hero-xtreme-160r.jpg\n",
            "hero-passion-pro-i3s.jpg\n",
            "bajaj-dominar-250.jpg\n",
            "tvs-sport.jpg\n",
            "honda-cb-shine-sp.jpg\n",
            "honda-cb-shine.jpg\n",
            "bajaj-pulsar-125.jpg\n",
            "bajaj-platina-110.jpg\n",
            "bajaj-ct-100.jpg\n",
            "bajaj-platina-100.jpg\n",
            "tvs-star-city-plus.jpg\n",
            "tvs-apache-rtr-160.jpg\n",
            "tvs-xl-hd.jpg\n",
            "tvs-xl-100-comfort.jpg\n",
            "honda-cb-unicorn-160.jpg\n",
            "honda-cd-110-dream.jpg\n",
            "hero-hf-deluxe.jpg\n",
            "hero-hf-deluxe-i3s.jpg\n",
            "hero-splendor-plus.jpg\n",
            "honda-livo.jpg\n",
            "honda-x-blade.jpg\n",
            "benelli-imperiale-400.jpg\n",
            "bajaj-pulsar-200-ns.jpg\n",
            "Cruiser\n",
            "bajaj-avenger-street-220.jpg\n",
            "harley-davidson-road-king.jpg\n",
            "indian-chief-classic.jpg\n",
            "indian-chief-dark-horse.jpg\n",
            "indian-chief-vintage.jpg\n",
            "indian-chieftain.jpg\n",
            "indian-scout-sixty.jpg\n",
            "um-motorcycles-renegade-commando.jpg\n",
            "um-motorcycles-renegade-sport-s.jpg\n",
            "triumph-bonneville-t100.jpg\n",
            "moto-guzzi-mgx-21.jpg\n",
            "moto-guzzi-v9-bobber.jpg\n",
            "moto-guzzi-v9-roamer.jpg\n",
            "moto-guzzi-audace.jpg\n",
            "indian-springfield.jpg\n",
            "mv-agusta-brutale-800.jpg\n",
            "um-motorcycles-renegade-classic.jpg\n",
            "royal-enfield-classic-chrome.jpg\n",
            "royal-enfield-classic-desert-storm.jpg\n",
            "royal-enfield-thunderbird-500.jpg\n",
            "royal-enfield-classic-350.jpg\n",
            "harley-davidson-roadster.jpg\n",
            "harley-davidson-street-rod.jpg\n",
            "harley-davidson-road-glide-special.jpg\n",
            "harley-davidson-cvo-limited.jpg\n",
            "harley-davidson-iron-883.jpg\n",
            "triumph-bonneville-t120.jpg\n",
            "triumph-bonneville-bobber.jpg\n",
            "harley-davidson-fat-bob.jpg\n",
            "harley-davidson-street-bob.jpg\n",
            "harley-davidson-heritage-softail-classic.jpg\n",
            "avantura-choppers-rudra.jpg\n",
            "avantura-choppers-pravega.jpg\n",
            "kawasaki-vulcan-s.jpg\n",
            "triumph-speedmaster.jpg\n",
            "harley-davidson-softail-deluxe.jpg\n",
            "royal-enfield-thunderbird-350x.jpg\n",
            "royal-enfield-thunderbird-500x.jpg\n",
            "royal-enfield-continental-gt-650.jpg\n",
            "ducati-monster-797.jpg\n",
            "indian-roadmaster.jpg\n",
            "indian-roadmaster-elite.jpg\n",
            "indian-scout-bobber.jpg\n",
            "indian-chieftain-dark-horse.jpg\n",
            "indian-scout.jpg\n",
            "bmw-k-1600-gtl.jpg\n",
            "indian-chieftain-elite.jpg\n",
            "royal-enfield-interceptor-650.jpg\n",
            "jawa-forty-two.jpg\n",
            "jawa-300.jpg\n",
            "hyosung-aquila-250.jpg\n",
            "hyosung-aquila-pro650.jpg\n",
            "cleveland-cyclewerks-misfit.jpg\n",
            "cleveland-cyclewerks-ace-deluxe.jpg\n",
            "honda-gold-wing.jpg\n",
            "kawasaki-versys-1000.jpg\n",
            "triumph-street-twin.jpg\n",
            "harley-davidson-street-glide-special.jpg\n",
            "suzuki-intruder.jpg\n",
            "kawasaki-w800-street.jpg\n",
            "benelli-leoncino.jpg\n",
            "royal-enfield-bullet-350.jpg\n",
            "harley-davidson-street-750.jpg\n",
            "jawa-perak.jpg\n",
            "royal-enfield-thunderbird-350.jpg\n",
            "triumph-rocket-3-r.jpg\n",
            "harley-davidson-forty-eight.jpg\n",
            "harley-davidson-fat-boy.jpg\n",
            "bajaj-avenger-street-160.jpg\n",
            "bajaj-avenger-cruise-220.jpg\n",
            "harley-davidson-softail-low-rider.jpg\n",
            "harley-davidson-1200-custom.jpg\n",
            "OffRoad\n",
            "ducati-multistrada-950.jpg\n",
            "ducati-hyperstrada.jpg\n",
            "kawasaki-versys-x-300.jpg\n",
            "aprilia-caponord-1200.jpg\n",
            "royal-enfield-himalayan.jpg\n",
            "bmw-750-gs.jpg\n",
            "bmw-850-gs.jpg\n",
            "triumph-tiger-800.jpg\n",
            "triumph-tiger-1200.jpg\n",
            "suzuki-rm-z250.jpg\n",
            "suzuki-rm-z450.jpg\n",
            "swm-superdual-t.jpg\n",
            "kawasaki-kx-100.jpg\n",
            "kawasaki-kx250f.jpg\n",
            "kawasaki-kx-450.jpg\n",
            "kawasaki-klx-110.jpg\n",
            "kawasaki-klx-140g.jpg\n",
            "kawasaki-klx-450r.jpg\n",
            "bmw-r-1250-gs.jpg\n",
            "suzuki-v-strom-650xt.jpg\n",
            "triumph-scrambler-1200.jpg\n",
            "triumph-street-scrambler.jpg\n",
            "suzuki-dr-z50.jpg\n",
            "honda-crf1000l-africa-twin.jpg\n",
            "ducati-scrambler-desert-sled.jpg\n",
            "hero-xpulse-200.jpg\n",
            "hero-xpulse-200t.jpg\n",
            "bmw-r-1200.jpg\n",
            "cfmoto-650mt.jpg\n",
            "ktm-390-adventure.jpg\n",
            "honda-crf1100l-africa-twin.jpg\n",
            "bmw-f900xr.jpg\n",
            "triumph-tiger-900.jpg\n",
            "Scooter\n",
            "hero-electric-photon.jpg\n",
            "mahindra-gusto-125.jpg\n",
            "piaggio-vespa-150.jpg\n",
            "hero-duet.jpg\n",
            "lohia-omastar.jpg\n",
            "okinawa-ridge.jpg\n",
            "aprilia-sr-150.jpg\n",
            "hero-electric-nyx.jpg\n",
            "aprilia-srv-850.jpg\n",
            "okinawa-praise.jpg\n",
            "aprilia-sr-125.jpg\n",
            "tvs-scooty-zest-110.jpg\n",
            "tvs-ntorq-125.jpg\n",
            "yamaha-cygnus-ray-zr.jpg\n",
            "honda-activa-5g.jpg\n",
            "yamaha-ray-z.jpg\n",
            "ather-450.jpg\n",
            "suzuki-access-125.jpg\n",
            "honda-aviator.jpg\n",
            "hero-maestro-edge.jpg\n",
            "piaggio-vespa.jpg\n",
            "hero-pleasure.jpg\n",
            "okinawa-ridge-plus.jpg\n",
            "hero-destini-125.jpg\n",
            "okinawa-i-praise.jpg\n",
            "yamaha-fascino.jpg\n",
            "mahindra-gusto.jpg\n",
            "tvs-scooty-pep-plus.jpg\n",
            "avan-motors-xero-plus.jpg\n",
            "aprilia-storm-125.jpg\n",
            "hero-maestro-edge-125.jpg\n",
            "hero-electric-optima.jpg\n",
            "hero-electric-flash.jpg\n",
            "yamaha-alpha.jpg\n",
            "li-ions-elektrik-spock.jpg\n",
            "22kymco-flow.jpg\n",
            "suzuki-new-access-125.jpg\n",
            "evolet-polo.jpg\n",
            "evolet-derby.jpg\n",
            "evolet-pony.jpg\n",
            "gemopai-astrid-lite.jpg\n",
            "polarity-sport.jpg\n",
            "polarity-executive.jpg\n",
            "hero-electric-dash.jpg\n",
            "okinawa-lite.jpg\n",
            "crayon-motors-envy.jpg\n",
            "yamaha-fascino-125.jpg\n",
            "ampere-reo-elite.jpg\n",
            "aprilia-sr-160.jpg\n",
            "hero-pleasure-plus-110.jpg\n",
            "bajaj-chetak.jpg\n",
            "honda-activa-6g.jpg\n",
            "tvs-iqube.jpg\n",
            "yamaha-ray-zr-125fi.jpg\n",
            "suzuki-burgman.jpg\n",
            "honda-dio.jpg\n",
            "tvs-jupiter.jpg\n",
            "honda-activa-125-fi.jpg\n",
            "ampere-magnus.jpg\n",
            "ampere-reo.jpg\n",
            "ampere-v48.jpg\n",
            "honda-grazia.jpg\n",
            "ampere-zeal.jpg\n",
            "Sports\n",
            "ducati-1299-panigale.jpg\n",
            "kawasaki-z250.jpg\n",
            "ktm-200-duke.jpg\n",
            "mv-agusta-brutale-1090.jpg\n",
            "suzuki-gsx-s1000.jpg\n",
            "suzuki-gsx-s1000f.jpg\n",
            "triumph-thruxton-r.jpg\n",
            "kawasaki-ninja-h2.jpg\n",
            "ducati-multistrada-1200-enduro.jpg\n",
            "ducati-xdiavel.jpg\n",
            "aprilia-rsv4.jpg\n",
            "mv-agusta-f4-rr.jpg\n",
            "moto-guzzi-eldorado.jpg\n",
            "ktm-rc-390.jpg\n",
            "honda-cb-1000r.jpg\n",
            "ktm-390-duke.jpg\n",
            "bajaj-pulsar-rs-200.jpg\n",
            "bmw-r-1200-rt.jpg\n",
            "bmw-r-1200-r.jpg\n",
            "bmw-r-1200-gs-adventure.jpg\n",
            "bmw-k-1600.jpg\n",
            "bmw-r-1200-rs.jpg\n",
            "kawasaki-z1000r.jpg\n",
            "honda-cbr-1000rr.jpg\n",
            "aprilia-shiver-900.jpg\n",
            "aprilia-dorsoduro-900.jpg\n",
            "suzuki-v-strom-1000.jpg\n",
            "ducati-hypermotard.jpg\n",
            "ducati-supersport.jpg\n",
            "kawasaki-ninja-h2r.jpg\n",
            "triumph-street-triple-s.jpg\n",
            "bajaj-pulsar-ns160.jpg\n",
            "bmw-r-nine-t.jpg\n",
            "bmw-k-1600-b.jpg\n",
            "bmw-s-1000-r.jpg\n",
            "aprilia-tuono.jpg\n",
            "aprilia-dorsoduro-1200.jpg\n",
            "yamaha-yzf-r1.jpg\n",
            "norton-dominator.jpg\n",
            "ktm-250-duke.jpg\n",
            "bmw-r-ninet-scrambler.jpg\n",
            "suzuki-gsx-r1000.jpg\n",
            "kawasaki-ninja-h2-sx.jpg\n",
            "kawasaki-ninja-h2-sx-se.jpg\n",
            "mahindra-mojo.jpg\n",
            "ducati-panigale-v4.jpg\n",
            "kawasaki-ninja-400.jpg\n",
            "ducati-959-panigale.jpg\n",
            "ducati-monster-821.jpg\n",
            "kawasaki-ninja-1000.jpg\n",
            "ducati-multistrada-1260.jpg\n",
            "ktm-rc-200.jpg\n",
            "kawasaki-ninja-zx-10rr.jpg\n",
            "hero-xtreme-200r.jpg\n",
            "bmw-g-310-gs.jpg\n",
            "bmw-g-310-r.jpg\n",
            "kawasaki-z900rs.jpg\n",
            "kawasaki-ninja-zx-14r.jpg\n",
            "hero-karizma-zmr.jpg\n",
            "suzuki-gsx-r1000r.jpg\n",
            "benelli-tnt-600i.jpg\n",
            "benelli-bn-302r.jpg\n",
            "benelli-tnt-300.jpg\n",
            "ducati-scrambler-1100.jpg\n",
            "mv-agusta-brutale-800-rr.jpg\n",
            "kawasaki-z900.jpg\n",
            "kawasaki-versys-650.jpg\n",
            "fb-mondial-hps-300.jpg\n",
            "norton-commando-961-sport-mk-ii.jpg\n",
            "hyosung-gt250r.jpg\n",
            "hyosung-gt650r.jpg\n",
            "honda-cb1000r-plus.jpg\n",
            "indian-ftr-1200.jpg\n",
            "kawasaki-ninja-zx-6r.jpg\n",
            "bmw-r-1250-gs-adventure.jpg\n",
            "yamaha-fz-v30-fi.jpg\n",
            "ktm-125-duke.jpg\n",
            "honda-cb300r.jpg\n",
            "benelli-trk-502.jpg\n",
            "yamaha-mt-09.jpg\n",
            "suzuki-gsx-s750.jpg\n",
            "honda-cbr650r.jpg\n",
            "ducati-scrambler.jpg\n",
            "hero-xtreme-200s.jpg\n",
            "kawasaki-ninja-zx-10r.jpg\n",
            "kawasaki-ninja-300.jpg\n",
            "ducati-hypermotard-950.jpg\n",
            "mv-agusta-f3-800-rc.jpg\n",
            "bajaj-dominar-400-2019.jpg\n",
            "bmw-s-1000-rr.jpg\n",
            "ktm-rc-125.jpg\n",
            "yamaha-fz-25.jpg\n",
            "tvs-apache-rtr-200-fi-e100.jpg\n",
            "cfmoto-650nk.jpg\n",
            "cfmoto-650gt.jpg\n",
            "ducati-diavel-1260.jpg\n",
            "mv-agusta-turismo-veloce-800.jpg\n",
            "ktm-790-duke.jpg\n",
            "bmw-r-1250-rt.jpg\n",
            "bmw-r-1250-r.jpg\n",
            "mv-agusta-dragster-800-rr.jpg\n",
            "yamaha-fz-s-v30-fi.jpg\n",
            "suzuki-hayabusa.jpg\n",
            "kawasaki-z650.jpg\n",
            "kawasaki-z1000.jpg\n",
            "tvs-apache-rr-310.jpg\n",
            "yamaha-mt-15.jpg\n",
            "husqvarna-svartpilen-250.jpg\n",
            "husqvarna-vitpilen-250.jpg\n",
            "tvs-apache-rtr-180.jpg\n",
            "triumph-street-triple.jpg\n",
            "yamaha-r15-v30.jpg\n",
            "tvs-apache-rtr-200-4v.jpg\n",
            "tvs-apache-rtr-160-4v.jpg\n",
            "kawasaki-ninja-650.jpg\n",
            "bmw-f900r.jpg\n",
            "bmw-s-1000-xr.jpg\n"
          ],
          "name": "stdout"
        }
      ]
    },
    {
      "cell_type": "code",
      "metadata": {
        "id": "Ze1w45TDwsYs",
        "colab_type": "code",
        "colab": {}
      },
      "source": [
        "images_arr = np.asarray(images)\n",
        "labels_arr = np.asarray(labels)"
      ],
      "execution_count": 85,
      "outputs": []
    },
    {
      "cell_type": "code",
      "metadata": {
        "id": "tCUSgGwOt-Cv",
        "colab_type": "code",
        "colab": {
          "base_uri": "https://localhost:8080/",
          "height": 34
        },
        "outputId": "d56a0325-d14d-4079-e16b-c76d94f10ad6"
      },
      "source": [
        "images_arr.shape, labels_arr.shape"
      ],
      "execution_count": 86,
      "outputs": [
        {
          "output_type": "execute_result",
          "data": {
            "text/plain": [
              "((686, 128, 128, 3), (686,))"
            ]
          },
          "metadata": {
            "tags": []
          },
          "execution_count": 86
        }
      ]
    },
    {
      "cell_type": "code",
      "metadata": {
        "id": "30q-EpnmyHh-",
        "colab_type": "code",
        "colab": {
          "base_uri": "https://localhost:8080/",
          "height": 68
        },
        "outputId": "db5705a4-6088-42cb-89af-451d92891c0f"
      },
      "source": [
        "images_arr[1][24]"
      ],
      "execution_count": 39,
      "outputs": [
        {
          "output_type": "execute_result",
          "data": {
            "text/plain": [
              "array([255,  84, 124, 251, 127, 155, 217, 253, 108,  61, 255, 255, 255,\n",
              "       223,  82, 104, 191,  59, 153, 239,  33,  89, 247,  70, 137, 244,\n",
              "       246,  70,  71, 255, 255, 255], dtype=uint8)"
            ]
          },
          "metadata": {
            "tags": []
          },
          "execution_count": 39
        }
      ]
    },
    {
      "cell_type": "code",
      "metadata": {
        "id": "QBTR-nOdyPlT",
        "colab_type": "code",
        "colab": {}
      },
      "source": [
        "images_arr = images_arr / 255.0"
      ],
      "execution_count": 87,
      "outputs": []
    },
    {
      "cell_type": "code",
      "metadata": {
        "id": "p7URpRRa_7Tw",
        "colab_type": "code",
        "colab": {}
      },
      "source": [
        "labels_arr_new = [[i] for i in labels_arr]"
      ],
      "execution_count": 7,
      "outputs": []
    },
    {
      "cell_type": "code",
      "metadata": {
        "id": "mdnZ0s1EyfhE",
        "colab_type": "code",
        "colab": {}
      },
      "source": [
        "images_arr[1][24]"
      ],
      "execution_count": null,
      "outputs": []
    },
    {
      "cell_type": "code",
      "metadata": {
        "id": "4c2FurAey82f",
        "colab_type": "code",
        "colab": {}
      },
      "source": [
        "from sklearn.preprocessing import LabelEncoder\n",
        "enc = LabelEncoder()\n",
        "labels_arr = enc.fit_transform(labels_arr)"
      ],
      "execution_count": 88,
      "outputs": []
    },
    {
      "cell_type": "code",
      "metadata": {
        "id": "5aNED0Bq-6k6",
        "colab_type": "code",
        "colab": {}
      },
      "source": [
        "from sklearn.preprocessing import OneHotEncoder\n",
        "encO = OneHotEncoder()\n",
        "labels_arrO = encO.fit_transform(labels_arr_new).toarray()"
      ],
      "execution_count": 8,
      "outputs": []
    },
    {
      "cell_type": "code",
      "metadata": {
        "id": "pUCsyLa5ATyO",
        "colab_type": "code",
        "colab": {}
      },
      "source": [
        "encO.fit_transform(labels_arr_new).toarray()"
      ],
      "execution_count": null,
      "outputs": []
    },
    {
      "cell_type": "code",
      "metadata": {
        "id": "4Fh_gRBW_YTY",
        "colab_type": "code",
        "colab": {}
      },
      "source": [
        "labels_arrO"
      ],
      "execution_count": null,
      "outputs": []
    },
    {
      "cell_type": "code",
      "metadata": {
        "id": "Sy-AaKk4_arg",
        "colab_type": "code",
        "colab": {
          "base_uri": "https://localhost:8080/",
          "height": 51
        },
        "outputId": "65af8ca3-e85b-4930-e292-04d7d5145687"
      },
      "source": [
        "encO.categories_"
      ],
      "execution_count": 9,
      "outputs": [
        {
          "output_type": "execute_result",
          "data": {
            "text/plain": [
              "[array(['Commuter', 'Cruiser', 'OffRoad', 'Scooter', 'Sports'],\n",
              "       dtype=object)]"
            ]
          },
          "metadata": {
            "tags": []
          },
          "execution_count": 9
        }
      ]
    },
    {
      "cell_type": "code",
      "metadata": {
        "id": "fpiPYtR0_IGD",
        "colab_type": "code",
        "colab": {}
      },
      "source": [
        "labels_arr[119]"
      ],
      "execution_count": null,
      "outputs": []
    },
    {
      "cell_type": "code",
      "metadata": {
        "id": "ZRPJVHSKzwI6",
        "colab_type": "code",
        "colab": {
          "base_uri": "https://localhost:8080/",
          "height": 34
        },
        "outputId": "5d8a9d1b-08d3-4dde-e586-b858461900d8"
      },
      "source": [
        "enc.classes_"
      ],
      "execution_count": 89,
      "outputs": [
        {
          "output_type": "execute_result",
          "data": {
            "text/plain": [
              "array(['Commuter', 'Cruiser', 'OffRoad', 'Scooter', 'Sports'], dtype='<U8')"
            ]
          },
          "metadata": {
            "tags": []
          },
          "execution_count": 89
        }
      ]
    },
    {
      "cell_type": "code",
      "metadata": {
        "id": "gU0xMY0l0MCK",
        "colab_type": "code",
        "colab": {
          "base_uri": "https://localhost:8080/",
          "height": 34
        },
        "outputId": "065921ed-ad6b-4a39-9b0b-05afc9424c55"
      },
      "source": [
        "images_arr.shape, labels_arr.shape"
      ],
      "execution_count": 8,
      "outputs": [
        {
          "output_type": "execute_result",
          "data": {
            "text/plain": [
              "((686, 32, 32, 3), (686,))"
            ]
          },
          "metadata": {
            "tags": []
          },
          "execution_count": 8
        }
      ]
    },
    {
      "cell_type": "code",
      "metadata": {
        "id": "cHbn50iC4GSh",
        "colab_type": "code",
        "colab": {}
      },
      "source": [
        "train_images = images_arr.reshape(len(images_arr), 32, 32, 1)"
      ],
      "execution_count": 49,
      "outputs": []
    },
    {
      "cell_type": "code",
      "metadata": {
        "id": "CohUHP3M4SSh",
        "colab_type": "code",
        "colab": {}
      },
      "source": [
        "train_images.shape"
      ],
      "execution_count": null,
      "outputs": []
    },
    {
      "cell_type": "code",
      "metadata": {
        "id": "9gRkNSukB7GA",
        "colab_type": "code",
        "colab": {}
      },
      "source": [
        "from sklearn.utils import shuffle\n",
        "x_train, y_train = shuffle(images_arr, labels_arr)"
      ],
      "execution_count": 90,
      "outputs": []
    },
    {
      "cell_type": "code",
      "metadata": {
        "id": "wxtMdD-FCPnR",
        "colab_type": "code",
        "colab": {
          "base_uri": "https://localhost:8080/",
          "height": 34
        },
        "outputId": "a01e28ed-1dad-4ef1-98df-9b232ff094ee"
      },
      "source": [
        "x_train.shape, y_train.shape"
      ],
      "execution_count": 112,
      "outputs": [
        {
          "output_type": "execute_result",
          "data": {
            "text/plain": [
              "((686, 128, 128, 3), (686,))"
            ]
          },
          "metadata": {
            "tags": []
          },
          "execution_count": 112
        }
      ]
    },
    {
      "cell_type": "code",
      "metadata": {
        "id": "KBpmiEc12iPG",
        "colab_type": "code",
        "colab": {
          "base_uri": "https://localhost:8080/",
          "height": 1000
        },
        "outputId": "ed227832-8f03-4f64-8063-883589e4aa33"
      },
      "source": [
        "image_size = (128, 128, 3)\n",
        "from keras.applications.vgg16 import VGG16\n",
        "from keras.layers import Input, Lambda, Dense, Flatten\n",
        "from keras.models import Model\n",
        "\n",
        "vgg = VGG16(input_shape=image_size, weights='imagenet', include_top=False)\n",
        "\n",
        "for layer in vgg.layers:\n",
        "  layer.trainable = False\n",
        "\n",
        "x = Flatten()(vgg.output)\n",
        "# x = Dense(512, activation='relu')(x)\n",
        "x = Dense(512, activation='relu')(x)\n",
        "prediction = Dense(5, activation='softmax')(x)\n",
        "\n",
        "model = Model(inputs=vgg.input, outputs=prediction)\n",
        "\n",
        "model.summary()\n",
        "\n",
        "model.compile(\n",
        "  loss='sparse_categorical_crossentropy',\n",
        "  optimizer='adam',\n",
        "  metrics=['accuracy']\n",
        ")\n",
        "\n",
        "model.fit(x_train, y_train, batch_size=32, epochs=10, validation_split=0.1, initial_epoch=3)"
      ],
      "execution_count": 101,
      "outputs": [
        {
          "output_type": "stream",
          "text": [
            "Model: \"model_15\"\n",
            "_________________________________________________________________\n",
            "Layer (type)                 Output Shape              Param #   \n",
            "=================================================================\n",
            "input_15 (InputLayer)        (None, 128, 128, 3)       0         \n",
            "_________________________________________________________________\n",
            "block1_conv1 (Conv2D)        (None, 128, 128, 64)      1792      \n",
            "_________________________________________________________________\n",
            "block1_conv2 (Conv2D)        (None, 128, 128, 64)      36928     \n",
            "_________________________________________________________________\n",
            "block1_pool (MaxPooling2D)   (None, 64, 64, 64)        0         \n",
            "_________________________________________________________________\n",
            "block2_conv1 (Conv2D)        (None, 64, 64, 128)       73856     \n",
            "_________________________________________________________________\n",
            "block2_conv2 (Conv2D)        (None, 64, 64, 128)       147584    \n",
            "_________________________________________________________________\n",
            "block2_pool (MaxPooling2D)   (None, 32, 32, 128)       0         \n",
            "_________________________________________________________________\n",
            "block3_conv1 (Conv2D)        (None, 32, 32, 256)       295168    \n",
            "_________________________________________________________________\n",
            "block3_conv2 (Conv2D)        (None, 32, 32, 256)       590080    \n",
            "_________________________________________________________________\n",
            "block3_conv3 (Conv2D)        (None, 32, 32, 256)       590080    \n",
            "_________________________________________________________________\n",
            "block3_pool (MaxPooling2D)   (None, 16, 16, 256)       0         \n",
            "_________________________________________________________________\n",
            "block4_conv1 (Conv2D)        (None, 16, 16, 512)       1180160   \n",
            "_________________________________________________________________\n",
            "block4_conv2 (Conv2D)        (None, 16, 16, 512)       2359808   \n",
            "_________________________________________________________________\n",
            "block4_conv3 (Conv2D)        (None, 16, 16, 512)       2359808   \n",
            "_________________________________________________________________\n",
            "block4_pool (MaxPooling2D)   (None, 8, 8, 512)         0         \n",
            "_________________________________________________________________\n",
            "block5_conv1 (Conv2D)        (None, 8, 8, 512)         2359808   \n",
            "_________________________________________________________________\n",
            "block5_conv2 (Conv2D)        (None, 8, 8, 512)         2359808   \n",
            "_________________________________________________________________\n",
            "block5_conv3 (Conv2D)        (None, 8, 8, 512)         2359808   \n",
            "_________________________________________________________________\n",
            "block5_pool (MaxPooling2D)   (None, 4, 4, 512)         0         \n",
            "_________________________________________________________________\n",
            "flatten_15 (Flatten)         (None, 8192)              0         \n",
            "_________________________________________________________________\n",
            "dense_31 (Dense)             (None, 512)               4194816   \n",
            "_________________________________________________________________\n",
            "dense_32 (Dense)             (None, 5)                 2565      \n",
            "=================================================================\n",
            "Total params: 18,912,069\n",
            "Trainable params: 4,197,381\n",
            "Non-trainable params: 14,714,688\n",
            "_________________________________________________________________\n",
            "Train on 617 samples, validate on 69 samples\n",
            "Epoch 4/10\n",
            "617/617 [==============================] - 1s 2ms/step - loss: 1.9237 - accuracy: 0.5511 - val_loss: 0.7976 - val_accuracy: 0.6377\n",
            "Epoch 5/10\n",
            "617/617 [==============================] - 1s 2ms/step - loss: 0.4723 - accuracy: 0.8282 - val_loss: 0.9120 - val_accuracy: 0.6377\n",
            "Epoch 6/10\n",
            "617/617 [==============================] - 1s 2ms/step - loss: 0.3059 - accuracy: 0.8817 - val_loss: 0.6796 - val_accuracy: 0.7681\n",
            "Epoch 7/10\n",
            "617/617 [==============================] - 1s 2ms/step - loss: 0.1785 - accuracy: 0.9271 - val_loss: 0.6371 - val_accuracy: 0.7971\n",
            "Epoch 8/10\n",
            "617/617 [==============================] - 1s 2ms/step - loss: 0.1075 - accuracy: 0.9757 - val_loss: 0.5695 - val_accuracy: 0.7971\n",
            "Epoch 9/10\n",
            "617/617 [==============================] - 1s 2ms/step - loss: 0.0855 - accuracy: 0.9887 - val_loss: 0.6365 - val_accuracy: 0.7681\n",
            "Epoch 10/10\n",
            "617/617 [==============================] - 1s 2ms/step - loss: 0.0624 - accuracy: 0.9968 - val_loss: 0.5308 - val_accuracy: 0.8261\n"
          ],
          "name": "stdout"
        },
        {
          "output_type": "execute_result",
          "data": {
            "text/plain": [
              "<keras.callbacks.callbacks.History at 0x7fabe9496fd0>"
            ]
          },
          "metadata": {
            "tags": []
          },
          "execution_count": 101
        }
      ]
    },
    {
      "cell_type": "code",
      "metadata": {
        "id": "hZ_wdheADonN",
        "colab_type": "code",
        "colab": {
          "base_uri": "https://localhost:8080/",
          "height": 34
        },
        "outputId": "84bb9246-fcac-412f-deba-ea13ff30f7ea"
      },
      "source": [
        "from sklearn.externals import joblib\n",
        "joblib.dump(model, \"vgg-16_model_2.pkl\")"
      ],
      "execution_count": 109,
      "outputs": [
        {
          "output_type": "execute_result",
          "data": {
            "text/plain": [
              "['vgg-16_model_2.pkl']"
            ]
          },
          "metadata": {
            "tags": []
          },
          "execution_count": 109
        }
      ]
    },
    {
      "cell_type": "code",
      "metadata": {
        "id": "3wz16CERDrUe",
        "colab_type": "code",
        "colab": {}
      },
      "source": [
        "from sklearn.externals import joblib\n",
        "model = joblib.load(\"vgg-16_model.pkl\")"
      ],
      "execution_count": null,
      "outputs": []
    },
    {
      "cell_type": "code",
      "metadata": {
        "id": "wXw36BMuGykk",
        "colab_type": "code",
        "colab": {}
      },
      "source": [
        "from sklearn.externals import joblib\n",
        "def getPrediction(path,size):\n",
        "  test_img = cv.imread(path, 1)\n",
        "  test_img = cv.resize(test_img, (size, size))\n",
        "  test_img = test_img / 255.0\n",
        "  test_arr = test_img.reshape(1, size, size, 3)\n",
        "  model = joblib.load(\"vgg-16_model_2.pkl\")\n",
        "  pred = model.predict(test_arr)\n",
        "  pred_value = enc.inverse_transform(np.argmax(pred).ravel())[0]\n",
        "  return pred_value"
      ],
      "execution_count": 113,
      "outputs": []
    },
    {
      "cell_type": "code",
      "metadata": {
        "id": "r3JdqyQ2HKV2",
        "colab_type": "code",
        "colab": {
          "base_uri": "https://localhost:8080/",
          "height": 35
        },
        "outputId": "e62ea184-34c5-4757-d0e8-07ea5233e493"
      },
      "source": [
        "getPrediction(path=\"/content/test_scooty.jpg\", size=128)"
      ],
      "execution_count": 114,
      "outputs": [
        {
          "output_type": "execute_result",
          "data": {
            "application/vnd.google.colaboratory.intrinsic": {
              "type": "string"
            },
            "text/plain": [
              "'Scooter'"
            ]
          },
          "metadata": {
            "tags": []
          },
          "execution_count": 114
        }
      ]
    },
    {
      "cell_type": "code",
      "metadata": {
        "id": "QsvnSQ2FEH3m",
        "colab_type": "code",
        "colab": {
          "base_uri": "https://localhost:8080/",
          "height": 285
        },
        "outputId": "bcf0d8a6-340d-4d46-8d02-da2b8d1e3340"
      },
      "source": [
        "test_img = cv.imread(\"/content/test_scooty.jpg\", 1)\n",
        "test_img = cv.resize(test_img, (128, 128))\n",
        "plt.imshow(test_img)"
      ],
      "execution_count": 115,
      "outputs": [
        {
          "output_type": "execute_result",
          "data": {
            "text/plain": [
              "<matplotlib.image.AxesImage at 0x7fabe90a5400>"
            ]
          },
          "metadata": {
            "tags": []
          },
          "execution_count": 115
        },
        {
          "output_type": "display_data",
          "data": {
            "image/png": "[encoded data removed]",
            "text/plain": [
              "<Figure size 432x288 with 1 Axes>"
            ]
          },
          "metadata": {
            "tags": [],
            "needs_background": "light"
          }
        }
      ]
    },
    {
      "cell_type": "code",
      "metadata": {
        "id": "Bo8YFw4BFavg",
        "colab_type": "code",
        "colab": {}
      },
      "source": [
        "test_img = test_img / 255.0"
      ],
      "execution_count": 34,
      "outputs": []
    },
    {
      "cell_type": "code",
      "metadata": {
        "id": "uxXRDmQbFHzi",
        "colab_type": "code",
        "colab": {}
      },
      "source": [
        "test_arr = test_img.reshape(1, 32, 32, 3)"
      ],
      "execution_count": 37,
      "outputs": []
    },
    {
      "cell_type": "code",
      "metadata": {
        "id": "biHphrRrFOUH",
        "colab_type": "code",
        "colab": {
          "base_uri": "https://localhost:8080/",
          "height": 34
        },
        "outputId": "a627d296-efde-40bd-e9ab-039a8f01d6cd"
      },
      "source": [
        "test_arr.shape"
      ],
      "execution_count": 38,
      "outputs": [
        {
          "output_type": "execute_result",
          "data": {
            "text/plain": [
              "(1, 32, 32, 3)"
            ]
          },
          "metadata": {
            "tags": []
          },
          "execution_count": 38
        }
      ]
    },
    {
      "cell_type": "code",
      "metadata": {
        "id": "eH_M6KxMFlbi",
        "colab_type": "code",
        "colab": {}
      },
      "source": [
        "pred = model.predict(test_arr)"
      ],
      "execution_count": 44,
      "outputs": []
    },
    {
      "cell_type": "code",
      "metadata": {
        "id": "gJKV7mUsGGFr",
        "colab_type": "code",
        "colab": {}
      },
      "source": [
        "list(np.argmax(pred))"
      ],
      "execution_count": null,
      "outputs": []
    },
    {
      "cell_type": "code",
      "metadata": {
        "id": "g6jSyvzcHlMd",
        "colab_type": "code",
        "colab": {
          "base_uri": "https://localhost:8080/",
          "height": 35
        },
        "outputId": "aa292fcd-a4fe-44cc-aa6a-1e32d674bba3"
      },
      "source": [
        "enc.inverse_transform(np.argmax(pred).ravel())[0]"
      ],
      "execution_count": 65,
      "outputs": [
        {
          "output_type": "execute_result",
          "data": {
            "application/vnd.google.colaboratory.intrinsic": {
              "type": "string"
            },
            "text/plain": [
              "'Scooter'"
            ]
          },
          "metadata": {
            "tags": []
          },
          "execution_count": 65
        }
      ]
    },
    {
      "cell_type": "code",
      "metadata": {
        "id": "0lXuA3KlFsbT",
        "colab_type": "code",
        "colab": {}
      },
      "source": [
        "x = enc.inverse_transform(np.argmax(pred).ravel())[0]"
      ],
      "execution_count": 63,
      "outputs": []
    },
    {
      "cell_type": "code",
      "metadata": {
        "id": "3GFmwfNjGuxG",
        "colab_type": "code",
        "colab": {
          "base_uri": "https://localhost:8080/",
          "height": 35
        },
        "outputId": "d1885fc8-a311-48bf-e773-a5b50f0f4724"
      },
      "source": [
        "x"
      ],
      "execution_count": 57,
      "outputs": [
        {
          "output_type": "execute_result",
          "data": {
            "application/vnd.google.colaboratory.intrinsic": {
              "type": "string"
            },
            "text/plain": [
              "'Scooter'"
            ]
          },
          "metadata": {
            "tags": []
          },
          "execution_count": 57
        }
      ]
    }
  ]
}